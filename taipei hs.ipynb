{
 "cells": [
  {
   "cell_type": "code",
   "execution_count": 2,
   "metadata": {},
   "outputs": [],
   "source": [
    "import requests\n",
    "import pandas as pd\n",
    "from bs4 import BeautifulSoup\n",
    "import re\n"
   ]
  },
  {
   "cell_type": "code",
   "execution_count": 188,
   "metadata": {
    "scrolled": false
   },
   "outputs": [
    {
     "name": "stdout",
     "output_type": "stream",
     "text": [
      "     0                   1                2   3     4                  5    6  \\\n",
      "0    #                古蹟名稱               地址  類型  建成年代               古蹟等級   縣市   \n",
      "1    1  台北府城（北門、東門、南門、小南門）           臺北市中正區  城郭  1884  1997年4月以前公告為一級古蹟者  台北市   \n",
      "2    2                 紅毛城   新北市淡水區中正路28巷1號  衙署  1629  1997年4月以前公告為一級古蹟者  新北市   \n",
      "3    3       基隆二沙灣砲臺（海門天險）           基隆市中正區  關塞  1840  1997年4月以前公告為一級古蹟者  基隆市   \n",
      "4    4               金廣福公館      新竹縣北埔鄉中正路6號  宅第  1835  1997年4月以前公告為一級古蹟者  新竹縣   \n",
      "..  ..                 ...              ...  ..   ...                ...  ...   \n",
      "56  57          大同之家（含網球場）       台北市中正區重慶南路   -   NaN   1997年4月以後公告的市定古蹟  台北市   \n",
      "57  58              西本願寺鐘樓      台北市萬華區中華路一段   -  1923   1997年4月以後公告的市定古蹟  台北市   \n",
      "58  59            西本願寺樹心會館      台北市萬華區中華路一段   -  1923   1997年4月以後公告的市定古蹟  台北市   \n",
      "59  60                 晉德宮     台北市萬華區康定路13號  祠廟  1862   1997年4月以後公告的市定古蹟  台北市   \n",
      "60  61           原臺灣軍司令官官邸  台北市中正區南昌路一段136號  宅第  1909   1997年4月以後公告的市定古蹟  台北市   \n",
      "\n",
      "                                                    7  \n",
      "0                                                  網址  \n",
      "1   https://zh.wikipedia.org/wiki/%E5%8F%B0%E5%8C%...  \n",
      "2   https://zh.wikipedia.org/wiki/%E7%B4%85%E6%AF%...  \n",
      "3   https://zh.wikipedia.org/wiki/%E4%BA%8C%E6%B2%...  \n",
      "4   https://zh.wikipedia.org/wiki/%E9%87%91%E5%BB%...  \n",
      "..                                                ...  \n",
      "56  https://zh.wikipedia.org/wiki/%E5%A4%A7%E5%90%...  \n",
      "57  https://zh.wikipedia.org/wiki/%E8%A5%BF%E6%9C%...  \n",
      "58  https://zh.wikipedia.org/w/index.php?title=%E6...  \n",
      "59  https://zh.wikipedia.org/wiki/%E5%8F%B0%E5%8C%...  \n",
      "60  https://zh.wikipedia.org/wiki/%E5%8E%9F%E8%87%...  \n",
      "\n",
      "[217 rows x 8 columns]\n"
     ]
    }
   ],
   "source": [
    "#目的：將台北市的所有古蹟放到goole map 自製地圖上\n",
    "#作法：先將wiki上的古蹟列表擷取下來，再選取在臺北市的古蹟並存入excel中，最後再google自製地圖中上傳xlxs檔\n",
    "\n",
    "\n",
    "url='https://zh.wikipedia.org/wiki/%E8%87%BA%E7%81%A3%E5%8F%A4%E8%B9%9F%E5%88%97%E8%A1%A8'\n",
    "tables=pd.read_html(url)\n",
    "\n",
    "r=requests.get(url)\n",
    "bs=BeautifulSoup(r.text,'lxml')\n",
    "#從wiki的台灣古蹟列表中找出所有古蹟，並加上古蹟的等級\n",
    "his=[]\n",
    "for i in range(3,8):\n",
    "    h=i-3\n",
    "    first_class=tables[i]\n",
    "    n=bs.find(class_='mw-parser-output').find_all('h3')[h].find(class_='mw-headline').text\n",
    "    first_class[5]=n\n",
    "    first_class[5][0]='古蹟等級'\n",
    "    if i>3: \n",
    "        first_class=first_class.drop([0])\n",
    "    his.append(first_class)\n",
    "n=his[0].append(his[1]).append(his[2]).append(his[3]).append(his[4])\n",
    "\n",
    "\n",
    "#加上古蹟所在縣市\n",
    "city=[]\n",
    "for i in n[2]:\n",
    "    citys=i[0:3].replace('臺','台')\n",
    "    city.append(citys)\n",
    "n[6]=city\n",
    "n[6]=n[6].replace('地址','縣市') \n",
    "\n",
    "#加上古蹟介紹網址\n",
    "urls_link=['網址']\n",
    "for i in range(3,8):\n",
    "    tables=bs.find_all('table')[i].find_all('tr')[1:]\n",
    "    for table in tables:\n",
    "        title=table.find_all('td')[1].find('a')\n",
    "        if not title==None:   \n",
    "            url_link=table.find_all('td')[1].a['href']\n",
    "\n",
    "            urls_link.append('https://zh.wikipedia.org'+url_link)\n",
    "        else:\n",
    "            urls_link.append('無資料')\n",
    "\n",
    "n[7]=urls_link\n",
    "#print(n)\n",
    "            \n",
    "#存入excel\n",
    "writer=pd.ExcelWriter('/Users/louis/Desktop/taipei.xlsx')\n",
    "n.to_excel(writer, sheet_name='sheet_1')\n",
    "writer.save()"
   ]
  },
  {
   "cell_type": "code",
   "execution_count": null,
   "metadata": {},
   "outputs": [],
   "source": []
  },
  {
   "cell_type": "code",
   "execution_count": null,
   "metadata": {},
   "outputs": [],
   "source": []
  },
  {
   "cell_type": "code",
   "execution_count": null,
   "metadata": {},
   "outputs": [],
   "source": [
    "\n",
    "\n",
    "\n",
    "\n",
    "\n",
    "\n",
    "\n",
    "\n",
    "\n",
    "\n"
   ]
  },
  {
   "cell_type": "code",
   "execution_count": null,
   "metadata": {},
   "outputs": [],
   "source": []
  },
  {
   "cell_type": "code",
   "execution_count": null,
   "metadata": {},
   "outputs": [],
   "source": [
    "\n",
    "\n",
    "\n"
   ]
  },
  {
   "cell_type": "code",
   "execution_count": null,
   "metadata": {},
   "outputs": [],
   "source": []
  },
  {
   "cell_type": "markdown",
   "metadata": {},
   "source": [
    " "
   ]
  }
 ],
 "metadata": {
  "kernelspec": {
   "display_name": "Python 3",
   "language": "python",
   "name": "python3"
  },
  "language_info": {
   "codemirror_mode": {
    "name": "ipython",
    "version": 3
   },
   "file_extension": ".py",
   "mimetype": "text/x-python",
   "name": "python",
   "nbconvert_exporter": "python",
   "pygments_lexer": "ipython3",
   "version": "3.7.4"
  }
 },
 "nbformat": 4,
 "nbformat_minor": 2
}
