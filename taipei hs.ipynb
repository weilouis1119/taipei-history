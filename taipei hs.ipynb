{
 "cells": [
  {
   "cell_type": "code",
   "execution_count": 2,
   "metadata": {},
   "outputs": [],
   "source": [
    "import requests\n",
    "import pandas as pd\n",
    "from bs4 import BeautifulSoup\n",
    "import re\n"
   ]
  },
  {
   "cell_type": "code",
   "execution_count": 53,
   "metadata": {
    "scrolled": false
   },
   "outputs": [
    {
     "name": "stdout",
     "output_type": "stream",
     "text": [
      "     0                   1                 2   3      4                  5  \\\n",
      "1    1  台北府城（北門、東門、南門、小南門）            臺北市中正區  城郭   1884  1997年4月以前公告為一級古蹟者   \n",
      "4    4            臺灣總督府博物館       台北市中正區襄陽路2號  其他  1915年   1997年4月以後公告的國定古蹟   \n",
      "5    5          專賣局（菸酒公賣局）     台北市中正區南昌路一段1號  其他  1913年   1997年4月以後公告的國定古蹟   \n",
      "6    6                 總統府  台北市中正區重慶南路一段122號  衙署  1919年   1997年4月以後公告的國定古蹟   \n",
      "7    7                 監察院    台北市中正區忠孝東路一段2號  衙署  1915年   1997年4月以後公告的國定古蹟   \n",
      "..  ..                 ...               ...  ..    ...                ...   \n",
      "56  57          大同之家（含網球場）        台北市中正區重慶南路   -    NaN   1997年4月以後公告的市定古蹟   \n",
      "57  58              西本願寺鐘樓       台北市萬華區中華路一段   -   1923   1997年4月以後公告的市定古蹟   \n",
      "58  59            西本願寺樹心會館       台北市萬華區中華路一段   -   1923   1997年4月以後公告的市定古蹟   \n",
      "59  60                 晉德宮      台北市萬華區康定路13號  祠廟   1862   1997年4月以後公告的市定古蹟   \n",
      "60  61           原臺灣軍司令官官邸   台北市中正區南昌路一段136號  宅第   1909   1997年4月以後公告的市定古蹟   \n",
      "\n",
      "      6                                                  7  \n",
      "1   台北市  https://zh.wikipedia.org/wiki/%E5%8F%B0%E5%8C%...  \n",
      "4   台北市  https://zh.wikipedia.org/wiki/%E8%87%BA%E7%81%...  \n",
      "5   台北市  https://zh.wikipedia.org/wiki/%E5%B0%88%E8%B3%...  \n",
      "6   台北市  https://zh.wikipedia.org/wiki/%E7%B8%BD%E7%B5%...  \n",
      "7   台北市  https://zh.wikipedia.org/wiki/%E5%8F%B0%E5%8C%...  \n",
      "..  ...                                                ...  \n",
      "56  台北市  https://zh.wikipedia.org/wiki/%E5%A4%A7%E5%90%...  \n",
      "57  台北市  https://zh.wikipedia.org/wiki/%E8%A5%BF%E6%9C%...  \n",
      "58  台北市  https://zh.wikipedia.org/w/index.php?title=%E6...  \n",
      "59  台北市  https://zh.wikipedia.org/wiki/%E5%8F%B0%E5%8C%...  \n",
      "60  台北市  https://zh.wikipedia.org/wiki/%E5%8E%9F%E8%87%...  \n",
      "\n",
      "[76 rows x 8 columns]\n"
     ]
    }
   ],
   "source": [
    "#目的：將台北市的所有古蹟放到goole map 自製地圖上\n",
    "#作法：先將wiki上的古蹟列表擷取下來，再選取在臺北市的古蹟並存入excel中，最後再google自製地圖中上傳xlxs檔\n",
    "\n",
    "\n",
    "url='https://zh.wikipedia.org/wiki/%E8%87%BA%E7%81%A3%E5%8F%A4%E8%B9%9F%E5%88%97%E8%A1%A8'\n",
    "tables=pd.read_html(url)\n",
    "\n",
    "r=requests.get(url)\n",
    "bs=BeautifulSoup(r.text,'lxml')\n",
    "#從wiki的台灣古蹟列表中找出所有古蹟，並加上古蹟的等級\n",
    "his=[]\n",
    "for i in range(3,8):\n",
    "    h=i-3\n",
    "    first_class=tables[i]\n",
    "    n=bs.find(class_='mw-parser-output').find_all('h3')[h].find(class_='mw-headline').text\n",
    "    first_class[5]=n\n",
    "    first_class[5][0]='古蹟等級'\n",
    "    if i>3: \n",
    "        first_class=first_class.drop([0])\n",
    "    his.append(first_class)\n",
    "n=his[0].append(his[1]).append(his[2]).append(his[3]).append(his[4])\n",
    "\n",
    "\n",
    "#加上古蹟所在縣市\n",
    "city=[]\n",
    "for i in n[2]:\n",
    "    citys=i[0:3].replace('臺','台')\n",
    "    city.append(citys)\n",
    "n[6]=city\n",
    "n[6]=n[6].replace('地址','縣市') \n",
    "\n",
    "#加上古蹟介紹網址\n",
    "urls_link=['網址']\n",
    "for i in range(3,8):\n",
    "    tables=bs.find_all('table')[i].find_all('tr')[1:]\n",
    "    for table in tables:\n",
    "        title=table.find_all('td')[1].find('a')\n",
    "        if not title==None:   \n",
    "            url_link=table.find_all('td')[1].a['href']\n",
    "\n",
    "            urls_link.append('https://zh.wikipedia.org'+url_link)\n",
    "        else:\n",
    "            urls_link.append('無資料')\n",
    "\n",
    "n[7]=urls_link\n",
    "#print(n)\n",
    "\n",
    "#選取位於台北市的古蹟\n",
    "\n",
    "taipei=n[n[6].str.contains('台北市')]\n",
    "print(taipei)\n",
    "\n",
    "#存入excel\n",
    "writer=pd.ExcelWriter('/Users/louis/Desktop/taipei.xlsx')\n",
    "taipei.to_excel(writer, sheet_name='sheet_1')\n",
    "writer.save()"
   ]
  },
  {
   "cell_type": "code",
   "execution_count": null,
   "metadata": {},
   "outputs": [],
   "source": []
  },
  {
   "cell_type": "code",
   "execution_count": null,
   "metadata": {},
   "outputs": [],
   "source": []
  },
  {
   "cell_type": "code",
   "execution_count": null,
   "metadata": {},
   "outputs": [],
   "source": []
  },
  {
   "cell_type": "code",
   "execution_count": null,
   "metadata": {},
   "outputs": [],
   "source": []
  },
  {
   "cell_type": "code",
   "execution_count": null,
   "metadata": {},
   "outputs": [],
   "source": []
  },
  {
   "cell_type": "code",
   "execution_count": null,
   "metadata": {},
   "outputs": [],
   "source": []
  },
  {
   "cell_type": "markdown",
   "metadata": {},
   "source": [
    " "
   ]
  }
 ],
 "metadata": {
  "kernelspec": {
   "display_name": "Python 3",
   "language": "python",
   "name": "python3"
  },
  "language_info": {
   "codemirror_mode": {
    "name": "ipython",
    "version": 3
   },
   "file_extension": ".py",
   "mimetype": "text/x-python",
   "name": "python",
   "nbconvert_exporter": "python",
   "pygments_lexer": "ipython3",
   "version": "3.7.4"
  }
 },
 "nbformat": 4,
 "nbformat_minor": 2
}
