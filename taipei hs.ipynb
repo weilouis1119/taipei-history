{
 "cells": [
  {
   "cell_type": "code",
   "execution_count": 2,
   "metadata": {},
   "outputs": [],
   "source": [
    "import requests\n",
    "import pandas as pd\n",
    "from bs4 import BeautifulSoup\n",
    "import re\n"
   ]
  },
  {
   "cell_type": "code",
   "execution_count": 3,
   "metadata": {},
   "outputs": [
    {
     "name": "stdout",
     "output_type": "stream",
     "text": [
      "     0                   1                 2   3      4                  5  \\\n",
      "1    1  台北府城（北門、東門、南門、小南門）            臺北市中正區  城郭   1884  1997年4月以前公告為一級古蹟者   \n",
      "4    4            臺灣總督府博物館       台北市中正區襄陽路2號  其他  1915年   1997年4月以後公告的國定古蹟   \n",
      "5    5          專賣局（菸酒公賣局）     台北市中正區南昌路一段1號  其他  1913年   1997年4月以後公告的國定古蹟   \n",
      "6    6                 總統府  台北市中正區重慶南路一段122號  衙署  1919年   1997年4月以後公告的國定古蹟   \n",
      "7    7                 監察院    台北市中正區忠孝東路一段2號  衙署  1915年   1997年4月以後公告的國定古蹟   \n",
      "..  ..                 ...               ...  ..    ...                ...   \n",
      "56  57          大同之家（含網球場）        台北市中正區重慶南路   -    NaN   1997年4月以後公告的市定古蹟   \n",
      "57  58              西本願寺鐘樓       台北市萬華區中華路一段   -   1923   1997年4月以後公告的市定古蹟   \n",
      "58  59            西本願寺樹心會館       台北市萬華區中華路一段   -   1923   1997年4月以後公告的市定古蹟   \n",
      "59  60                 晉德宮      台北市萬華區康定路13號  祠廟   1862   1997年4月以後公告的市定古蹟   \n",
      "60  61           原臺灣軍司令官官邸   台北市中正區南昌路一段136號  宅第   1909   1997年4月以後公告的市定古蹟   \n",
      "\n",
      "      6  \n",
      "1   台北市  \n",
      "4   台北市  \n",
      "5   台北市  \n",
      "6   台北市  \n",
      "7   台北市  \n",
      "..  ...  \n",
      "56  台北市  \n",
      "57  台北市  \n",
      "58  台北市  \n",
      "59  台北市  \n",
      "60  台北市  \n",
      "\n",
      "[76 rows x 7 columns]\n"
     ]
    }
   ],
   "source": [
    "url='https://zh.wikipedia.org/wiki/%E8%87%BA%E7%81%A3%E5%8F%A4%E8%B9%9F%E5%88%97%E8%A1%A8'\n",
    "tables=pd.read_html(url)\n",
    "\n",
    "r=requests.get(url)\n",
    "bs=BeautifulSoup(r.text,'lxml')\n",
    "\n",
    "his=[]\n",
    "for i in range(3,8):\n",
    "    h=i-3\n",
    "    first_class=tables[i]\n",
    "    n=bs.find(class_='mw-parser-output').find_all('h3')[h].find(class_='mw-headline').text\n",
    "    first_class[5]=n\n",
    "    first_class[5][0]='古蹟等級'\n",
    "    his.append(first_class)\n",
    "    #print(first_class)\n",
    "    #print('========================')\n",
    "n=his[0].append(his[1]).append(his[2]).append(his[3]).append(his[4])\n",
    "\n",
    "city=[]\n",
    "for i in n[2]:\n",
    "    citys=i[0:3].replace('臺','台')\n",
    "    city.append(citys)\n",
    "n[6]=city\n",
    "n[6]=n[6].replace('地址','縣市')   \n",
    "\n",
    "taipei=n[n[6].str.contains('台北市')]\n",
    "print(taipei)\n",
    "\n",
    "writer=pd.ExcelWriter('/Users/louis/Desktop/taipei.xlsx')\n",
    "taipei.to_excel(writer, sheet_name='sheet_1')\n",
    "writer.save()"
   ]
  },
  {
   "cell_type": "code",
   "execution_count": null,
   "metadata": {},
   "outputs": [],
   "source": []
  },
  {
   "cell_type": "code",
   "execution_count": null,
   "metadata": {},
   "outputs": [],
   "source": []
  },
  {
   "cell_type": "code",
   "execution_count": null,
   "metadata": {},
   "outputs": [],
   "source": [
    "\n",
    "\n",
    "\n",
    "\n",
    "\n",
    "\n",
    "\n",
    "\n",
    "\n",
    "\n"
   ]
  },
  {
   "cell_type": "code",
   "execution_count": null,
   "metadata": {},
   "outputs": [],
   "source": []
  },
  {
   "cell_type": "code",
   "execution_count": null,
   "metadata": {},
   "outputs": [],
   "source": [
    "\n",
    "\n",
    "\n"
   ]
  },
  {
   "cell_type": "code",
   "execution_count": null,
   "metadata": {},
   "outputs": [],
   "source": []
  },
  {
   "cell_type": "markdown",
   "metadata": {},
   "source": [
    " "
   ]
  }
 ],
 "metadata": {
  "kernelspec": {
   "display_name": "Python 3",
   "language": "python",
   "name": "python3"
  },
  "language_info": {
   "codemirror_mode": {
    "name": "ipython",
    "version": 3
   },
   "file_extension": ".py",
   "mimetype": "text/x-python",
   "name": "python",
   "nbconvert_exporter": "python",
   "pygments_lexer": "ipython3",
   "version": "3.7.4"
  }
 },
 "nbformat": 4,
 "nbformat_minor": 2
}
